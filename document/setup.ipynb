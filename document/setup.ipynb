{
 "cells": [
  {
   "cell_type": "code",
   "execution_count": 2,
   "id": "initial_id",
   "metadata": {
    "ExecuteTime": {
     "end_time": "2025-06-02T08:44:07.898539Z",
     "start_time": "2025-06-02T08:44:07.894627Z"
    },
    "collapsed": true
   },
   "outputs": [],
   "source": [
    "# from langchain.document_loaders import TextLoader\n",
    "from langchain.text_splitter import CharacterTextSplitter\n",
    "from langchain.embeddings import OpenAIEmbeddings\n",
    "from langchain.vectorstores import Chroma\n",
    "from dotenv import load_dotenv"
   ]
  },
  {
   "cell_type": "code",
   "execution_count": 3,
   "id": "c8b0fcc24128f56d",
   "metadata": {
    "ExecuteTime": {
     "end_time": "2025-06-02T08:44:07.945622Z",
     "start_time": "2025-06-02T08:44:07.942215Z"
    }
   },
   "outputs": [
    {
     "data": {
      "text/plain": [
       "True"
      ]
     },
     "execution_count": 3,
     "metadata": {},
     "output_type": "execute_result"
    }
   ],
   "source": [
    "load_dotenv()"
   ]
  },
  {
   "cell_type": "code",
   "execution_count": 21,
   "id": "2aed5b06c0f152ed",
   "metadata": {
    "ExecuteTime": {
     "end_time": "2025-06-02T08:44:08.361602Z",
     "start_time": "2025-06-02T08:44:08.358368Z"
    }
   },
   "outputs": [],
   "source": [
    "text_splitter = CharacterTextSplitter(\n",
    "    separator=\"\\n\",\n",
    "    chunk_size=200,\n",
    "    chunk_overlap=50\n",
    ")\n"
   ]
  },
  {
   "cell_type": "code",
   "execution_count": 22,
   "id": "385d961f29838de8",
   "metadata": {
    "ExecuteTime": {
     "end_time": "2025-06-02T08:44:08.782608Z",
     "start_time": "2025-06-02T08:44:08.777964Z"
    }
   },
   "outputs": [],
   "source": [
    "\n",
    "loader = TextLoader('facts.txt')\n",
    "docs = loader.load_and_split(\n",
    "    text_splitter=text_splitter,\n",
    ")"
   ]
  },
  {
   "cell_type": "code",
   "execution_count": 23,
   "id": "a105b08095fa1052",
   "metadata": {
    "ExecuteTime": {
     "end_time": "2025-06-02T08:44:10.122582Z",
     "start_time": "2025-06-02T08:44:10.116964Z"
    }
   },
   "outputs": [
    {
     "data": {
      "text/plain": [
       "[Document(page_content='1. jam malam sampai dengan pukul 23.00 WIB selanjutnya pintu gerbang\\nkost dikunci.\\n2. Melepas sepatu/sandal dari luar untuk selanjutnya jika diperlukan dapat', metadata={'source': 'facts.txt'}),\n",
       " Document(page_content='memakai alas kaki pribadi khusus dalam ruangan.\\n3. Menjaga ketenangan untuk kenyamanan bersama.\\n4. Bila ada kerusakan/kehilangan pada property kost yang disebabkan oleh', metadata={'source': 'facts.txt'}),\n",
       " Document(page_content='penghuni kost maka akan dikenakan denda.\\n5. Maksimal 1 orang per kamar.\\n6. Untuk kebersihan matras, bila berhalangan memakai pembalut yang\\naman dari kebocoran.', metadata={'source': 'facts.txt'}),\n",
       " Document(page_content='aman dari kebocoran.\\n7. Keluarga (perempuan) diperkenankan untuk menginap sesekali bila diperlukan.\\n8. Tidak mengkonsumsi obat terlarang, Dilarang merokok/bebas asap rokok', metadata={'source': 'facts.txt'}),\n",
       " Document(page_content='pada seluruh area kost (termasuk rokok elektrik/vape).\\n9. Tamu laki-laki hanya boleh menunggu di area lobby\\n10. Tamu wajib lapor pada pengelola/pengurus kost', metadata={'source': 'facts.txt'}),\n",
       " Document(page_content='10. Tamu wajib lapor pada pengelola/pengurus kost\\n11. Penghuni bertanggung jawab atas kebersihan kamar dan area bersama. (membuang sampah pada tempatnya, tidak coret-mencoret (vandalisme).', metadata={'source': 'facts.txt'}),\n",
       " Document(page_content='12. Dilarang membuang tisyu, pembalut, dil ke dalam kloset. Pembalut dibungkus terlebih dahulu sebelum dibuang ketempat sampah.', metadata={'source': 'facts.txt'}),\n",
       " Document(page_content='13. Dilarang membuang sisa makanan/minyak di sink yang dapat mengakibatkan\\ntersumbatnya saluran air.', metadata={'source': 'facts.txt'}),\n",
       " Document(page_content='tersumbatnya saluran air.\\n14. Membersihkan langsung kompor, alat masak dan piring gelas setelah digunakan. Tidak boleh meninggalkan peralatan kotor.', metadata={'source': 'facts.txt'}),\n",
       " Document(page_content='15. Matikan kran setelah digunakan dan laporkan segera bila terjadi kebocoran.\\n16. Tidak diperkenankan membawa binatang piaraan.', metadata={'source': 'facts.txt'})]"
      ]
     },
     "metadata": {},
     "output_type": "display_data"
    },
    {
     "name": "stdout",
     "output_type": "stream",
     "text": [
      "None\n"
     ]
    }
   ],
   "source": [
    "print(display(docs))"
   ]
  },
  {
   "cell_type": "code",
   "execution_count": 24,
   "id": "d2da44c9f403501",
   "metadata": {
    "ExecuteTime": {
     "end_time": "2025-06-02T08:44:11.083776Z",
     "start_time": "2025-06-02T08:44:11.072162Z"
    }
   },
   "outputs": [
    {
     "data": {
      "text/plain": [
       "Document(page_content='1. jam malam sampai dengan pukul 23.00 WIB selanjutnya pintu gerbang\\nkost dikunci.\\n2. Melepas sepatu/sandal dari luar untuk selanjutnya jika diperlukan dapat', metadata={'source': 'facts.txt'})"
      ]
     },
     "metadata": {},
     "output_type": "display_data"
    },
    {
     "name": "stdout",
     "output_type": "stream",
     "text": [
      "None\n",
      "\n"
     ]
    },
    {
     "data": {
      "text/plain": [
       "Document(page_content='memakai alas kaki pribadi khusus dalam ruangan.\\n3. Menjaga ketenangan untuk kenyamanan bersama.\\n4. Bila ada kerusakan/kehilangan pada property kost yang disebabkan oleh', metadata={'source': 'facts.txt'})"
      ]
     },
     "metadata": {},
     "output_type": "display_data"
    },
    {
     "name": "stdout",
     "output_type": "stream",
     "text": [
      "None\n",
      "\n"
     ]
    },
    {
     "data": {
      "text/plain": [
       "Document(page_content='penghuni kost maka akan dikenakan denda.\\n5. Maksimal 1 orang per kamar.\\n6. Untuk kebersihan matras, bila berhalangan memakai pembalut yang\\naman dari kebocoran.', metadata={'source': 'facts.txt'})"
      ]
     },
     "metadata": {},
     "output_type": "display_data"
    },
    {
     "name": "stdout",
     "output_type": "stream",
     "text": [
      "None\n",
      "\n"
     ]
    },
    {
     "data": {
      "text/plain": [
       "Document(page_content='aman dari kebocoran.\\n7. Keluarga (perempuan) diperkenankan untuk menginap sesekali bila diperlukan.\\n8. Tidak mengkonsumsi obat terlarang, Dilarang merokok/bebas asap rokok', metadata={'source': 'facts.txt'})"
      ]
     },
     "metadata": {},
     "output_type": "display_data"
    },
    {
     "name": "stdout",
     "output_type": "stream",
     "text": [
      "None\n",
      "\n"
     ]
    },
    {
     "data": {
      "text/plain": [
       "Document(page_content='pada seluruh area kost (termasuk rokok elektrik/vape).\\n9. Tamu laki-laki hanya boleh menunggu di area lobby\\n10. Tamu wajib lapor pada pengelola/pengurus kost', metadata={'source': 'facts.txt'})"
      ]
     },
     "metadata": {},
     "output_type": "display_data"
    },
    {
     "name": "stdout",
     "output_type": "stream",
     "text": [
      "None\n",
      "\n"
     ]
    },
    {
     "data": {
      "text/plain": [
       "Document(page_content='10. Tamu wajib lapor pada pengelola/pengurus kost\\n11. Penghuni bertanggung jawab atas kebersihan kamar dan area bersama. (membuang sampah pada tempatnya, tidak coret-mencoret (vandalisme).', metadata={'source': 'facts.txt'})"
      ]
     },
     "metadata": {},
     "output_type": "display_data"
    },
    {
     "name": "stdout",
     "output_type": "stream",
     "text": [
      "None\n",
      "\n"
     ]
    },
    {
     "data": {
      "text/plain": [
       "Document(page_content='12. Dilarang membuang tisyu, pembalut, dil ke dalam kloset. Pembalut dibungkus terlebih dahulu sebelum dibuang ketempat sampah.', metadata={'source': 'facts.txt'})"
      ]
     },
     "metadata": {},
     "output_type": "display_data"
    },
    {
     "name": "stdout",
     "output_type": "stream",
     "text": [
      "None\n",
      "\n"
     ]
    },
    {
     "data": {
      "text/plain": [
       "Document(page_content='13. Dilarang membuang sisa makanan/minyak di sink yang dapat mengakibatkan\\ntersumbatnya saluran air.', metadata={'source': 'facts.txt'})"
      ]
     },
     "metadata": {},
     "output_type": "display_data"
    },
    {
     "name": "stdout",
     "output_type": "stream",
     "text": [
      "None\n",
      "\n"
     ]
    },
    {
     "data": {
      "text/plain": [
       "Document(page_content='tersumbatnya saluran air.\\n14. Membersihkan langsung kompor, alat masak dan piring gelas setelah digunakan. Tidak boleh meninggalkan peralatan kotor.', metadata={'source': 'facts.txt'})"
      ]
     },
     "metadata": {},
     "output_type": "display_data"
    },
    {
     "name": "stdout",
     "output_type": "stream",
     "text": [
      "None\n",
      "\n"
     ]
    },
    {
     "data": {
      "text/plain": [
       "Document(page_content='15. Matikan kran setelah digunakan dan laporkan segera bila terjadi kebocoran.\\n16. Tidak diperkenankan membawa binatang piaraan.', metadata={'source': 'facts.txt'})"
      ]
     },
     "metadata": {},
     "output_type": "display_data"
    },
    {
     "name": "stdout",
     "output_type": "stream",
     "text": [
      "None\n",
      "\n"
     ]
    }
   ],
   "source": [
    "for doc in docs:\n",
    "    print(display(doc))\n",
    "    print(\"\\n\")"
   ]
  },
  {
   "cell_type": "code",
   "execution_count": 26,
   "id": "c09e8e6f73dd1c70",
   "metadata": {
    "ExecuteTime": {
     "end_time": "2025-06-02T08:44:25.713245Z",
     "start_time": "2025-06-02T08:44:23.753509Z"
    }
   },
   "outputs": [],
   "source": [
    "embeddings = OpenAIEmbeddings()\n",
    "db = Chroma.from_documents(\n",
    "    docs,\n",
    "    persist_directory = \"emb_qa\",\n",
    "    embedding = embeddings,\n",
    ")"
   ]
  },
  {
   "cell_type": "code",
   "execution_count": 4,
   "id": "f58d0e70",
   "metadata": {},
   "outputs": [
    {
     "name": "stderr",
     "output_type": "stream",
     "text": [
      "c:\\Users\\Lenovo\\anaconda3\\envs\\chatbot-agent-lomba\\Lib\\site-packages\\langchain_core\\_api\\deprecation.py:117: LangChainDeprecationWarning: The class `langchain_community.embeddings.openai.OpenAIEmbeddings` was deprecated in langchain-community 0.1.0 and will be removed in 0.2.0. An updated version of the class exists in the langchain-openai package and should be used instead. To use it run `pip install -U langchain-openai` and import as `from langchain_openai import OpenAIEmbeddings`.\n",
      "  warn_deprecated(\n"
     ]
    }
   ],
   "source": [
    "embeddings = OpenAIEmbeddings()\n",
    "persist_dir = \"emb_qa\"\n",
    "\n",
    "# Initialize vector database\n",
    "db = Chroma(\n",
    "    persist_directory=persist_dir,\n",
    "    embedding_function=embeddings,\n",
    ")"
   ]
  },
  {
   "cell_type": "code",
   "execution_count": 5,
   "id": "38429db7680a122c",
   "metadata": {
    "ExecuteTime": {
     "end_time": "2025-06-02T08:01:05.335592Z",
     "start_time": "2025-06-02T08:01:05.332377Z"
    }
   },
   "outputs": [],
   "source": [
    "retriever = db.as_retriever()"
   ]
  },
  {
   "cell_type": "code",
   "execution_count": 6,
   "id": "407b32f1e94a6a8a",
   "metadata": {
    "ExecuteTime": {
     "end_time": "2025-06-02T08:01:09.138505Z",
     "start_time": "2025-06-02T08:01:09.134052Z"
    }
   },
   "outputs": [
    {
     "data": {
      "text/plain": [
       "VectorStoreRetriever(tags=['Chroma', 'OpenAIEmbeddings'], vectorstore=<langchain_community.vectorstores.chroma.Chroma object at 0x000001EFC9C5AE50>)"
      ]
     },
     "execution_count": 6,
     "metadata": {},
     "output_type": "execute_result"
    }
   ],
   "source": [
    "retriever"
   ]
  },
  {
   "cell_type": "code",
   "execution_count": null,
   "id": "809dab5f6649c095",
   "metadata": {},
   "outputs": [],
   "source": []
  }
 ],
 "metadata": {
  "kernelspec": {
   "display_name": "chatbot-agent-lomba",
   "language": "python",
   "name": "python3"
  },
  "language_info": {
   "codemirror_mode": {
    "name": "ipython",
    "version": 3
   },
   "file_extension": ".py",
   "mimetype": "text/x-python",
   "name": "python",
   "nbconvert_exporter": "python",
   "pygments_lexer": "ipython3",
   "version": "3.11.11"
  }
 },
 "nbformat": 4,
 "nbformat_minor": 5
}
