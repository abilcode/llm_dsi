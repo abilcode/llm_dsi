{
 "cells": [
  {
   "cell_type": "code",
   "execution_count": 9,
   "id": "fab42946",
   "metadata": {},
   "outputs": [],
   "source": [
    "# from airflow import DAG\n",
    "# from airflow.operators.python import PythonOperator\n",
    "# from airflow.models import Variable\n",
    "# from airflow.utils import timezone\n",
    "# from jinja2 import Environment, FileSystemLoader\n",
    "# from datetime import timedelta\n",
    "import smtplib\n",
    "import psycopg2\n",
    "from email.mime.multipart import MIMEMultipart\n",
    "from email.mime.text import MIMEText\n",
    "\n",
    "def send_bill_reminders():\n",
    "    # Load vars\n",
    "    db_config = {\n",
    "        'host': Variable.get(\"DB_HOST\"),\n",
    "        'port': Variable.get(\"DB_PORT\"),\n",
    "        'dbname': Variable.get(\"DB_NAME\"),\n",
    "        'user': Variable.get(\"DB_USER\"),\n",
    "        'password': Variable.get(\"DB_PASSWORD\"),\n",
    "    }\n",
    "\n",
    "    smtp_host = Variable.get(\"SMTP_HOST\")\n",
    "    smtp_port = int(Variable.get(\"SMTP_PORT\"))\n",
    "    email_sender = Variable.get(\"EMAIL_SENDER\")\n",
    "    email_password = Variable.get(\"EMAIL_PASSWORD\")\n",
    "\n",
    "    # Connect to DB\n",
    "    conn = psycopg2.connect(**db_config)\n",
    "    cursor = conn.cursor()\n",
    "\n",
    "    query = \"\"\"\n",
    "    SELECT u.full_name, u.email, rb.due_date, rb.amount\n",
    "    FROM users u\n",
    "    JOIN bookings b ON u.user_id = b.user_id\n",
    "    JOIN recurring_bills rb ON b.booking_id = rb.booking_id\n",
    "    WHERE rb.is_paid = FALSE\n",
    "        AND rb.due_date = CURRENT_DATE + INTERVAL '10 days';\n",
    "    \"\"\"\n",
    "    cursor.execute(query)\n",
    "    rows = cursor.fetchall()\n",
    "    print(f\"Fetched {len(rows)} rows from the database.\")\n",
    "\n",
    "    if not rows:\n",
    "        print(\"✅ No upcoming bills found.\")\n",
    "        return\n",
    "\n",
    "    # Load HTML template\n",
    "    template = env.get_template('email_template.html')\n",
    "\n",
    "    for full_name, email, due_date, amount in rows:\n",
    "        html_content = template.render(\n",
    "            full_name=full_name,\n",
    "            due_date=due_date.strftime('%Y-%m-%d'),\n",
    "            amount=f\"{amount:,.2f}\"\n",
    "        )\n",
    "\n",
    "        msg = MIMEMultipart('alternative')\n",
    "        msg['Subject'] = \"⏰ Kosan Payment Reminder\"\n",
    "        msg['From'] = email_sender\n",
    "        msg['To'] = email\n",
    "        print(f\"Preparing email for {full_name} <{email}>: Due {due_date.strftime('%Y-%m-%d')}, Amount {amount:,.2f}\")\n",
    "        msg.attach(MIMEText(html_content, 'html'))\n",
    "\n",
    "        try:\n",
    "            with smtplib.SMTP(smtp_host, smtp_port) as server:\n",
    "                server.starttls()\n",
    "                server.login(email_sender, email_password)\n",
    "                server.sendmail(email_sender, email, msg.as_string())\n",
    "            print(f\"✅ Reminder sent to: {email}\")\n",
    "        except Exception as e:\n",
    "            print(f\"❌ Failed to send email to {email}: {e}\")\n",
    "\n",
    "    cursor.close()\n",
    "    conn.close()"
   ]
  },
  {
   "cell_type": "code",
   "execution_count": 24,
   "id": "ab96d958",
   "metadata": {},
   "outputs": [
    {
     "name": "stdout",
     "output_type": "stream",
     "text": [
      "Fetched 0 rows from the database.\n"
     ]
    }
   ],
   "source": [
    "db_config = {\n",
    "    'host': '34.50.70.80',\n",
    "    'port': '5432',\n",
    "    'dbname': 'hackathon-project',\n",
    "    'user': 'hackathonProject',\n",
    "    'password': 'hackathonProject!23',\n",
    "}\n",
    "\n",
    "smtp_host = 'smtp.gmail.com'\n",
    "smtp_port = 587\n",
    "email_sender = 'rhecopk@gmail.com'\n",
    "email_password = 'cbdytrozkhuucdpq'\n",
    "\n",
    "# Connect to DB\n",
    "conn = psycopg2.connect(**db_config)\n",
    "cursor = conn.cursor()\n",
    "\n",
    "query = \"\"\"\n",
    "SELECT u.full_name, u.email, rb.due_date, rb.amount\n",
    "FROM users u\n",
    "JOIN bookings b ON u.user_id = b.user_id\n",
    "JOIN recurring_bills rb ON b.booking_id = rb.booking_id\n",
    "WHERE rb.is_paid = FALSE\n",
    "  AND rb.due_date::date = CURRENT_DATE + INTERVAL '10 days';\n",
    "\"\"\"\n",
    "cursor.execute(query)\n",
    "rows = cursor.fetchall()\n",
    "print(f\"Fetched {len(rows)} rows from the database.\")"
   ]
  },
  {
   "cell_type": "code",
   "execution_count": null,
   "id": "eb05a631",
   "metadata": {},
   "outputs": [],
   "source": [
    "cursor.execute(\"\")  # or your actual timezone"
   ]
  },
  {
   "cell_type": "code",
   "execution_count": 23,
   "id": "d056bd59",
   "metadata": {},
   "outputs": [
    {
     "name": "stdout",
     "output_type": "stream",
     "text": [
      "DB Date: (datetime.date(2025, 6, 5), datetime.datetime(2025, 6, 15, 0, 0))\n"
     ]
    },
    {
     "data": {
      "text/plain": [
       "[]"
      ]
     },
     "execution_count": 23,
     "metadata": {},
     "output_type": "execute_result"
    }
   ],
   "source": [
    "cursor.execute(\"SELECT CURRENT_DATE, CURRENT_DATE + INTERVAL '10 days';\")\n",
    "print(\"DB Date:\", cursor.fetchone())\n",
    "rows"
   ]
  },
  {
   "cell_type": "code",
   "execution_count": null,
   "id": "4a978ba1",
   "metadata": {},
   "outputs": [],
   "source": []
  }
 ],
 "metadata": {
  "kernelspec": {
   "display_name": "chatbot-agent-lomba",
   "language": "python",
   "name": "python3"
  },
  "language_info": {
   "codemirror_mode": {
    "name": "ipython",
    "version": 3
   },
   "file_extension": ".py",
   "mimetype": "text/x-python",
   "name": "python",
   "nbconvert_exporter": "python",
   "pygments_lexer": "ipython3",
   "version": "3.11.11"
  }
 },
 "nbformat": 4,
 "nbformat_minor": 5
}
