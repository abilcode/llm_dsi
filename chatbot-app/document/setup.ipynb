{
 "cells": [
  {
   "cell_type": "code",
   "id": "initial_id",
   "metadata": {
    "collapsed": true,
    "ExecuteTime": {
     "end_time": "2025-06-02T08:44:07.898539Z",
     "start_time": "2025-06-02T08:44:07.894627Z"
    }
   },
   "source": [
    "from langchain.document_loaders import TextLoader\n",
    "from langchain.text_splitter import CharacterTextSplitter\n",
    "from langchain.embeddings import OpenAIEmbeddings\n",
    "from langchain.vectorstores import Chroma\n",
    "from dotenv import load_dotenv"
   ],
   "outputs": [],
   "execution_count": 19
  },
  {
   "metadata": {
    "ExecuteTime": {
     "end_time": "2025-06-02T08:44:07.945622Z",
     "start_time": "2025-06-02T08:44:07.942215Z"
    }
   },
   "cell_type": "code",
   "source": [
    "load_dotenv()"
   ],
   "id": "c8b0fcc24128f56d",
   "outputs": [
    {
     "data": {
      "text/plain": [
       "True"
      ]
     },
     "execution_count": 20,
     "metadata": {},
     "output_type": "execute_result"
    }
   ],
   "execution_count": 20
  },
  {
   "metadata": {
    "ExecuteTime": {
     "end_time": "2025-06-02T08:44:08.361602Z",
     "start_time": "2025-06-02T08:44:08.358368Z"
    }
   },
   "cell_type": "code",
   "source": [
    "text_splitter = CharacterTextSplitter(\n",
    "    separator=\"\\n\",\n",
    "    chunk_size=200,\n",
    "    chunk_overlap=50\n",
    ")\n"
   ],
   "id": "2aed5b06c0f152ed",
   "outputs": [],
   "execution_count": 21
  },
  {
   "metadata": {
    "ExecuteTime": {
     "end_time": "2025-06-02T08:44:08.782608Z",
     "start_time": "2025-06-02T08:44:08.777964Z"
    }
   },
   "cell_type": "code",
   "source": [
    "\n",
    "loader = TextLoader('facts.txt')\n",
    "docs = loader.load_and_split(\n",
    "    text_splitter=text_splitter,\n",
    ")"
   ],
   "id": "385d961f29838de8",
   "outputs": [],
   "execution_count": 22
  },
  {
   "metadata": {
    "ExecuteTime": {
     "end_time": "2025-06-02T08:44:10.122582Z",
     "start_time": "2025-06-02T08:44:10.116964Z"
    }
   },
   "cell_type": "code",
   "source": [
    "print(display(docs))"
   ],
   "id": "a105b08095fa1052",
   "outputs": [
    {
     "data": {
      "text/plain": [
       "[Document(page_content='1. jam malam sampai dengan pukul 23.00 WIB selanjutnya pintu gerbang\\nkost dikunci.\\n2. Melepas sepatu/sandal dari luar untuk selanjutnya jika diperlukan dapat', metadata={'source': 'facts.txt'}),\n",
       " Document(page_content='memakai alas kaki pribadi khusus dalam ruangan.\\n3. Menjaga ketenangan untuk kenyamanan bersama.\\n4. Bila ada kerusakan/kehilangan pada property kost yang disebabkan oleh', metadata={'source': 'facts.txt'}),\n",
       " Document(page_content='penghuni kost maka akan dikenakan denda.\\n5. Maksimal 1 orang per kamar.\\n6. Untuk kebersihan matras, bila berhalangan memakai pembalut yang\\naman dari kebocoran.', metadata={'source': 'facts.txt'}),\n",
       " Document(page_content='aman dari kebocoran.\\n7. Keluarga (perempuan) diperkenankan untuk menginap sesekali bila diperlukan.\\n8. Tidak mengkonsumsi obat terlarang, Dilarang merokok/bebas asap rokok', metadata={'source': 'facts.txt'}),\n",
       " Document(page_content='pada seluruh area kost (termasuk rokok elektrik/vape).\\n9. Tamu laki-laki hanya boleh menunggu di area lobby\\n10. Tamu wajib lapor pada pengelola/pengurus kost', metadata={'source': 'facts.txt'}),\n",
       " Document(page_content='10. Tamu wajib lapor pada pengelola/pengurus kost\\n11. Penghuni bertanggung jawab atas kebersihan kamar dan area bersama. (membuang sampah pada tempatnya, tidak coret-mencoret (vandalisme).', metadata={'source': 'facts.txt'}),\n",
       " Document(page_content='12. Dilarang membuang tisyu, pembalut, dil ke dalam kloset. Pembalut dibungkus terlebih dahulu sebelum dibuang ketempat sampah.', metadata={'source': 'facts.txt'}),\n",
       " Document(page_content='13. Dilarang membuang sisa makanan/minyak di sink yang dapat mengakibatkan\\ntersumbatnya saluran air.', metadata={'source': 'facts.txt'}),\n",
       " Document(page_content='tersumbatnya saluran air.\\n14. Membersihkan langsung kompor, alat masak dan piring gelas setelah digunakan. Tidak boleh meninggalkan peralatan kotor.', metadata={'source': 'facts.txt'}),\n",
       " Document(page_content='15. Matikan kran setelah digunakan dan laporkan segera bila terjadi kebocoran.\\n16. Tidak diperkenankan membawa binatang piaraan.', metadata={'source': 'facts.txt'})]"
      ]
     },
     "metadata": {},
     "output_type": "display_data"
    },
    {
     "name": "stdout",
     "output_type": "stream",
     "text": [
      "None\n"
     ]
    }
   ],
   "execution_count": 23
  },
  {
   "metadata": {
    "ExecuteTime": {
     "end_time": "2025-06-02T08:44:11.083776Z",
     "start_time": "2025-06-02T08:44:11.072162Z"
    }
   },
   "cell_type": "code",
   "source": [
    "for doc in docs:\n",
    "    print(display(doc))\n",
    "    print(\"\\n\")"
   ],
   "id": "d2da44c9f403501",
   "outputs": [
    {
     "data": {
      "text/plain": [
       "Document(page_content='1. jam malam sampai dengan pukul 23.00 WIB selanjutnya pintu gerbang\\nkost dikunci.\\n2. Melepas sepatu/sandal dari luar untuk selanjutnya jika diperlukan dapat', metadata={'source': 'facts.txt'})"
      ]
     },
     "metadata": {},
     "output_type": "display_data"
    },
    {
     "name": "stdout",
     "output_type": "stream",
     "text": [
      "None\n",
      "\n"
     ]
    },
    {
     "data": {
      "text/plain": [
       "Document(page_content='memakai alas kaki pribadi khusus dalam ruangan.\\n3. Menjaga ketenangan untuk kenyamanan bersama.\\n4. Bila ada kerusakan/kehilangan pada property kost yang disebabkan oleh', metadata={'source': 'facts.txt'})"
      ]
     },
     "metadata": {},
     "output_type": "display_data"
    },
    {
     "name": "stdout",
     "output_type": "stream",
     "text": [
      "None\n",
      "\n"
     ]
    },
    {
     "data": {
      "text/plain": [
       "Document(page_content='penghuni kost maka akan dikenakan denda.\\n5. Maksimal 1 orang per kamar.\\n6. Untuk kebersihan matras, bila berhalangan memakai pembalut yang\\naman dari kebocoran.', metadata={'source': 'facts.txt'})"
      ]
     },
     "metadata": {},
     "output_type": "display_data"
    },
    {
     "name": "stdout",
     "output_type": "stream",
     "text": [
      "None\n",
      "\n"
     ]
    },
    {
     "data": {
      "text/plain": [
       "Document(page_content='aman dari kebocoran.\\n7. Keluarga (perempuan) diperkenankan untuk menginap sesekali bila diperlukan.\\n8. Tidak mengkonsumsi obat terlarang, Dilarang merokok/bebas asap rokok', metadata={'source': 'facts.txt'})"
      ]
     },
     "metadata": {},
     "output_type": "display_data"
    },
    {
     "name": "stdout",
     "output_type": "stream",
     "text": [
      "None\n",
      "\n"
     ]
    },
    {
     "data": {
      "text/plain": [
       "Document(page_content='pada seluruh area kost (termasuk rokok elektrik/vape).\\n9. Tamu laki-laki hanya boleh menunggu di area lobby\\n10. Tamu wajib lapor pada pengelola/pengurus kost', metadata={'source': 'facts.txt'})"
      ]
     },
     "metadata": {},
     "output_type": "display_data"
    },
    {
     "name": "stdout",
     "output_type": "stream",
     "text": [
      "None\n",
      "\n"
     ]
    },
    {
     "data": {
      "text/plain": [
       "Document(page_content='10. Tamu wajib lapor pada pengelola/pengurus kost\\n11. Penghuni bertanggung jawab atas kebersihan kamar dan area bersama. (membuang sampah pada tempatnya, tidak coret-mencoret (vandalisme).', metadata={'source': 'facts.txt'})"
      ]
     },
     "metadata": {},
     "output_type": "display_data"
    },
    {
     "name": "stdout",
     "output_type": "stream",
     "text": [
      "None\n",
      "\n"
     ]
    },
    {
     "data": {
      "text/plain": [
       "Document(page_content='12. Dilarang membuang tisyu, pembalut, dil ke dalam kloset. Pembalut dibungkus terlebih dahulu sebelum dibuang ketempat sampah.', metadata={'source': 'facts.txt'})"
      ]
     },
     "metadata": {},
     "output_type": "display_data"
    },
    {
     "name": "stdout",
     "output_type": "stream",
     "text": [
      "None\n",
      "\n"
     ]
    },
    {
     "data": {
      "text/plain": [
       "Document(page_content='13. Dilarang membuang sisa makanan/minyak di sink yang dapat mengakibatkan\\ntersumbatnya saluran air.', metadata={'source': 'facts.txt'})"
      ]
     },
     "metadata": {},
     "output_type": "display_data"
    },
    {
     "name": "stdout",
     "output_type": "stream",
     "text": [
      "None\n",
      "\n"
     ]
    },
    {
     "data": {
      "text/plain": [
       "Document(page_content='tersumbatnya saluran air.\\n14. Membersihkan langsung kompor, alat masak dan piring gelas setelah digunakan. Tidak boleh meninggalkan peralatan kotor.', metadata={'source': 'facts.txt'})"
      ]
     },
     "metadata": {},
     "output_type": "display_data"
    },
    {
     "name": "stdout",
     "output_type": "stream",
     "text": [
      "None\n",
      "\n"
     ]
    },
    {
     "data": {
      "text/plain": [
       "Document(page_content='15. Matikan kran setelah digunakan dan laporkan segera bila terjadi kebocoran.\\n16. Tidak diperkenankan membawa binatang piaraan.', metadata={'source': 'facts.txt'})"
      ]
     },
     "metadata": {},
     "output_type": "display_data"
    },
    {
     "name": "stdout",
     "output_type": "stream",
     "text": [
      "None\n",
      "\n"
     ]
    }
   ],
   "execution_count": 24
  },
  {
   "metadata": {
    "ExecuteTime": {
     "end_time": "2025-06-02T08:44:25.713245Z",
     "start_time": "2025-06-02T08:44:23.753509Z"
    }
   },
   "cell_type": "code",
   "source": [
    "embeddings = OpenAIEmbeddings()\n",
    "db = Chroma.from_documents(\n",
    "    docs,\n",
    "    persist_directory = \"emb_qa\",\n",
    "    embedding = embeddings,\n",
    ")"
   ],
   "id": "c09e8e6f73dd1c70",
   "outputs": [],
   "execution_count": 26
  },
  {
   "metadata": {
    "ExecuteTime": {
     "end_time": "2025-06-02T08:01:05.335592Z",
     "start_time": "2025-06-02T08:01:05.332377Z"
    }
   },
   "cell_type": "code",
   "source": [
    "retriever = db.as_retriever()"
   ],
   "id": "38429db7680a122c",
   "outputs": [],
   "execution_count": 15
  },
  {
   "metadata": {
    "ExecuteTime": {
     "end_time": "2025-06-02T08:01:09.138505Z",
     "start_time": "2025-06-02T08:01:09.134052Z"
    }
   },
   "cell_type": "code",
   "source": [
    "retriever"
   ],
   "id": "407b32f1e94a6a8a",
   "outputs": [
    {
     "data": {
      "text/plain": [
       "VectorStoreRetriever(tags=['Chroma', 'OpenAIEmbeddings'], vectorstore=<langchain_community.vectorstores.chroma.Chroma object at 0x1168da370>)"
      ]
     },
     "execution_count": 16,
     "metadata": {},
     "output_type": "execute_result"
    }
   ],
   "execution_count": 16
  },
  {
   "metadata": {},
   "cell_type": "code",
   "outputs": [],
   "execution_count": null,
   "source": [],
   "id": "809dab5f6649c095"
  }
 ],
 "metadata": {
  "kernelspec": {
   "display_name": "Python 3",
   "language": "python",
   "name": "python3"
  },
  "language_info": {
   "codemirror_mode": {
    "name": "ipython",
    "version": 2
   },
   "file_extension": ".py",
   "mimetype": "text/x-python",
   "name": "python",
   "nbconvert_exporter": "python",
   "pygments_lexer": "ipython2",
   "version": "2.7.6"
  }
 },
 "nbformat": 4,
 "nbformat_minor": 5
}
