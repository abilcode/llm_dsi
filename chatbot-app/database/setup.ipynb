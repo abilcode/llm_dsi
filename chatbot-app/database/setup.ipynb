{
 "cells": [
  {
   "cell_type": "code",
   "id": "initial_id",
   "metadata": {
    "collapsed": true,
    "ExecuteTime": {
     "end_time": "2025-06-03T08:18:07.750801Z",
     "start_time": "2025-06-03T08:18:07.746445Z"
    }
   },
   "source": [
    "import pandas as pd\n",
    "import numpy as np\n",
    "\n",
    "import sqlite3\n",
    "# Set random seed for reproducibility\n",
    "np.random.seed(42)\n"
   ],
   "outputs": [],
   "execution_count": 3
  },
  {
   "metadata": {},
   "cell_type": "markdown",
   "source": "# ETL",
   "id": "7ff72fa79119853a"
  },
  {
   "metadata": {
    "ExecuteTime": {
     "end_time": "2025-06-03T08:19:01.819034Z",
     "start_time": "2025-06-03T08:19:01.816297Z"
    }
   },
   "cell_type": "code",
   "source": [
    "# Create SQLite database\n",
    "conn = sqlite3.connect('/Users/abilfad/Documents/code/new_llm/guest_rooms.db')\n",
    "cursor = conn.cursor()"
   ],
   "id": "d1717fa643fcbc55",
   "outputs": [],
   "execution_count": 7
  },
  {
   "cell_type": "markdown",
   "source": [
    "Creating rooms table"
   ],
   "metadata": {
    "collapsed": false
   },
   "id": "3e86387987695a39"
  },
  {
   "metadata": {
    "ExecuteTime": {
     "end_time": "2025-06-02T07:31:11.632789Z",
     "start_time": "2025-06-02T07:31:11.628305Z"
    }
   },
   "cell_type": "code",
   "source": [
    "cursor.execute('''\n",
    "CREATE TABLE IF NOT EXISTS rooms (\n",
    "    room_id TEXT PRIMARY KEY,\n",
    "    level TEXT NOT NULL,\n",
    "    availability TEXT NOT NULL,\n",
    "    room_type TEXT NOT NULL\n",
    ")\n",
    "''')"
   ],
   "id": "e30c109b0f97d993",
   "outputs": [
    {
     "data": {
      "text/plain": [
       "<sqlite3.Cursor at 0x12538fd50>"
      ]
     },
     "execution_count": 25,
     "metadata": {},
     "output_type": "execute_result"
    }
   ],
   "execution_count": 25
  },
  {
   "cell_type": "markdown",
   "source": [
    "Creating complaint table"
   ],
   "metadata": {
    "collapsed": false
   },
   "id": "5e33ebf3ed073b3"
  },
  {
   "cell_type": "code",
   "outputs": [
    {
     "data": {
      "text/plain": "<sqlite3.Cursor at 0x1174d52c0>"
     },
     "execution_count": 8,
     "metadata": {},
     "output_type": "execute_result"
    }
   ],
   "source": [
    "# (guest_name, room_id, description, status, created_at)\n",
    "cursor.execute('''\n",
    "CREATE TABLE IF NOT EXISTS complaints (\n",
    "    complaint_id INTEGER PRIMARY KEY AUTOINCREMENT,\n",
    "    guest_name TEXT,\n",
    "    room_id TEXT,\n",
    "    description TEXT NOT NULL,\n",
    "    status TEXT,\n",
    "    created_at TIMESTAMP\n",
    ")\n",
    "\n",
    "''')"
   ],
   "metadata": {
    "collapsed": false,
    "ExecuteTime": {
     "end_time": "2025-06-03T04:06:38.493361Z",
     "start_time": "2025-06-03T04:06:38.489846Z"
    }
   },
   "id": "20c99b34c75802ed",
   "execution_count": 8
  },
  {
   "metadata": {},
   "cell_type": "markdown",
   "source": "create transaction table",
   "id": "f8ebdaa73fe67963"
  },
  {
   "metadata": {
    "ExecuteTime": {
     "end_time": "2025-06-03T08:19:11.893894Z",
     "start_time": "2025-06-03T08:19:11.886616Z"
    }
   },
   "cell_type": "code",
   "source": [
    "cursor.execute('''\n",
    "        CREATE TABLE IF NOT EXISTS transactions (\n",
    "            transaction_id INTEGER PRIMARY KEY AUTOINCREMENT,\n",
    "            guest_name TEXT NOT NULL,\n",
    "            room_id TEXT NOT NULL,\n",
    "            transaction_type TEXT NOT NULL,\n",
    "            amount REAL NOT NULL,\n",
    "            description TEXT,\n",
    "            status TEXT DEFAULT 'Pending',\n",
    "            payment_method TEXT,\n",
    "            due_date DATE,\n",
    "            created_at TIMESTAMP DEFAULT CURRENT_TIMESTAMP,\n",
    "            updated_at TIMESTAMP DEFAULT CURRENT_TIMESTAMP\n",
    "        )\n",
    "    ''')"
   ],
   "id": "98b8e815ef34a248",
   "outputs": [
    {
     "data": {
      "text/plain": [
       "<sqlite3.Cursor at 0x1179c1f10>"
      ]
     },
     "execution_count": 8,
     "metadata": {},
     "output_type": "execute_result"
    }
   ],
   "execution_count": 8
  },
  {
   "metadata": {
    "ExecuteTime": {
     "end_time": "2025-06-03T08:19:52.330884Z",
     "start_time": "2025-06-03T08:19:52.325646Z"
    }
   },
   "cell_type": "code",
   "source": [
    "cursor.execute('''\n",
    "        CREATE TABLE IF NOT EXISTS bills (\n",
    "            bill_id INTEGER PRIMARY KEY AUTOINCREMENT,\n",
    "            guest_name TEXT NOT NULL,\n",
    "            room_id TEXT NOT NULL,\n",
    "            bill_type TEXT NOT NULL,\n",
    "            amount REAL NOT NULL,\n",
    "            description TEXT,\n",
    "            status TEXT DEFAULT 'Unpaid',\n",
    "            due_date DATE,\n",
    "            created_at TIMESTAMP DEFAULT CURRENT_TIMESTAMP\n",
    "        )\n",
    "    ''')"
   ],
   "id": "61917f955b642167",
   "outputs": [
    {
     "data": {
      "text/plain": [
       "<sqlite3.Cursor at 0x1179c1f10>"
      ]
     },
     "execution_count": 9,
     "metadata": {},
     "output_type": "execute_result"
    }
   ],
   "execution_count": 9
  },
  {
   "metadata": {
    "ExecuteTime": {
     "end_time": "2025-06-03T08:19:59.543450Z",
     "start_time": "2025-06-03T08:19:59.541037Z"
    }
   },
   "cell_type": "code",
   "source": "conn.commit()",
   "id": "e86e9e6d8387313f",
   "outputs": [],
   "execution_count": 10
  },
  {
   "metadata": {},
   "cell_type": "markdown",
   "source": "#### DELETE",
   "id": "d722b1bf04652984"
  },
  {
   "metadata": {
    "ExecuteTime": {
     "end_time": "2025-06-02T07:31:09.388293Z",
     "start_time": "2025-06-02T07:31:09.382743Z"
    }
   },
   "cell_type": "code",
   "source": [
    "cursor.execute(\n",
    "    '''\n",
    "    DROP TABLE rooms;\n",
    "\n",
    "    '''\n",
    ")"
   ],
   "id": "7aef361ac64836a7",
   "outputs": [
    {
     "data": {
      "text/plain": [
       "<sqlite3.Cursor at 0x12538fd50>"
      ]
     },
     "execution_count": 24,
     "metadata": {},
     "output_type": "execute_result"
    }
   ],
   "execution_count": 24
  },
  {
   "cell_type": "code",
   "outputs": [
    {
     "data": {
      "text/plain": "<sqlite3.Cursor at 0x1174d52c0>"
     },
     "execution_count": 6,
     "metadata": {},
     "output_type": "execute_result"
    }
   ],
   "source": [
    "cursor.execute(\n",
    "    '''\n",
    "    DROP TABLE complaints;\n",
    "\n",
    "    '''\n",
    ")"
   ],
   "metadata": {
    "collapsed": false,
    "ExecuteTime": {
     "end_time": "2025-06-03T04:06:19.907187Z",
     "start_time": "2025-06-03T04:06:19.891890Z"
    }
   },
   "id": "414a6f7cdfa10fef",
   "execution_count": 6
  },
  {
   "metadata": {},
   "cell_type": "markdown",
   "source": "## Rooms",
   "id": "ee48c3510e531e14"
  },
  {
   "metadata": {
    "ExecuteTime": {
     "end_time": "2025-06-02T07:31:49.889132Z",
     "start_time": "2025-06-02T07:31:49.882457Z"
    }
   },
   "cell_type": "code",
   "source": [
    "\n",
    "# Create room distribution by level\n",
    "levels = {\n",
    "    'level_1': 4,\n",
    "    'level_2': 8,\n",
    "    'level_3': 8\n",
    "}\n",
    "\n",
    "# Create lists of possible values\n",
    "#heights = ['Low', 'Medium', 'High']\n",
    "availabilities = ['available', 'occupied']\n",
    "room_types = ['standard', 'deluxe', 'suite']\n",
    "\n",
    "# Generate the data\n",
    "data = []\n",
    "room_counter = 1\n",
    "\n",
    "for level, count in levels.items():\n",
    "    for i in range(count):\n",
    "        room_data = {\n",
    "            'Room_ID': f\"R{room_counter:03d}\",\n",
    "            'Level': level,\n",
    "            'Availability': np.random.choice(availabilities, p=[0.6, 0.4] ),\n",
    "            'Type': np.random.choice(room_types, p=[0.6, 0.3, 0.1])\n",
    "        }\n",
    "        data.append(room_data)\n",
    "        room_counter += 1\n",
    "\n",
    "# Create DataFrame\n",
    "rooms_df = pd.DataFrame(data)\n",
    "rooms_df.columns = [c.lower() for c in rooms_df.columns]\n",
    "#\n",
    "# # Set specific height distributions by level (optional)\n",
    "# rooms_df.loc[rooms_df['Level'] == 'Level_1', 'Height'] = 'Low'\n",
    "# rooms_df.loc[rooms_df['Level'] == 'Level_2', 'Height'] = 'Medium'\n",
    "# rooms_df.loc[rooms_df['Level'] == 'Level_3', 'Height'] = 'High'\n",
    "\n",
    "# Display the DataFrame\n",
    "print(rooms_df.head(10))\n",
    "print(\"\\nRoom Count by Level:\")\n",
    "print(rooms_df['level'].value_counts())"
   ],
   "id": "a0a156e372738ed4",
   "outputs": [
    {
     "name": "stdout",
     "output_type": "stream",
     "text": [
      "  room_id    level availability      type\n",
      "0    R001  level_1    available    deluxe\n",
      "1    R002  level_1     occupied  standard\n",
      "2    R003  level_1    available    deluxe\n",
      "3    R004  level_1    available  standard\n",
      "4    R005  level_2    available  standard\n",
      "5    R006  level_2     occupied  standard\n",
      "6    R007  level_2    available  standard\n",
      "7    R008  level_2     occupied  standard\n",
      "8    R009  level_2     occupied  standard\n",
      "9    R010  level_2     occupied  standard\n",
      "\n",
      "Room Count by Level:\n",
      "level\n",
      "level_2    8\n",
      "level_3    8\n",
      "level_1    4\n",
      "Name: count, dtype: int64\n"
     ]
    }
   ],
   "execution_count": 28
  },
  {
   "metadata": {
    "ExecuteTime": {
     "end_time": "2025-06-02T07:31:50.928387Z",
     "start_time": "2025-06-02T07:31:50.920344Z"
    }
   },
   "cell_type": "code",
   "source": "rooms_df",
   "id": "9cab6499fd0ccd6f",
   "outputs": [
    {
     "data": {
      "text/plain": [
       "   room_id    level availability      type\n",
       "0     R001  level_1    available    deluxe\n",
       "1     R002  level_1     occupied  standard\n",
       "2     R003  level_1    available    deluxe\n",
       "3     R004  level_1    available  standard\n",
       "4     R005  level_2    available  standard\n",
       "5     R006  level_2     occupied  standard\n",
       "6     R007  level_2    available  standard\n",
       "7     R008  level_2     occupied  standard\n",
       "8     R009  level_2     occupied  standard\n",
       "9     R010  level_2     occupied  standard\n",
       "10    R011  level_2    available  standard\n",
       "11    R012  level_2     occupied    deluxe\n",
       "12    R013  level_3    available    deluxe\n",
       "13    R014  level_3     occupied  standard\n",
       "14    R015  level_3    available  standard\n",
       "15    R016  level_3    available    deluxe\n",
       "16    R017  level_3     occupied    deluxe\n",
       "17    R018  level_3    available  standard\n",
       "18    R019  level_3     occupied    deluxe\n",
       "19    R020  level_3     occupied    deluxe"
      ],
      "text/html": [
       "<div>\n",
       "<style scoped>\n",
       "    .dataframe tbody tr th:only-of-type {\n",
       "        vertical-align: middle;\n",
       "    }\n",
       "\n",
       "    .dataframe tbody tr th {\n",
       "        vertical-align: top;\n",
       "    }\n",
       "\n",
       "    .dataframe thead th {\n",
       "        text-align: right;\n",
       "    }\n",
       "</style>\n",
       "<table border=\"1\" class=\"dataframe\">\n",
       "  <thead>\n",
       "    <tr style=\"text-align: right;\">\n",
       "      <th></th>\n",
       "      <th>room_id</th>\n",
       "      <th>level</th>\n",
       "      <th>availability</th>\n",
       "      <th>type</th>\n",
       "    </tr>\n",
       "  </thead>\n",
       "  <tbody>\n",
       "    <tr>\n",
       "      <th>0</th>\n",
       "      <td>R001</td>\n",
       "      <td>level_1</td>\n",
       "      <td>available</td>\n",
       "      <td>deluxe</td>\n",
       "    </tr>\n",
       "    <tr>\n",
       "      <th>1</th>\n",
       "      <td>R002</td>\n",
       "      <td>level_1</td>\n",
       "      <td>occupied</td>\n",
       "      <td>standard</td>\n",
       "    </tr>\n",
       "    <tr>\n",
       "      <th>2</th>\n",
       "      <td>R003</td>\n",
       "      <td>level_1</td>\n",
       "      <td>available</td>\n",
       "      <td>deluxe</td>\n",
       "    </tr>\n",
       "    <tr>\n",
       "      <th>3</th>\n",
       "      <td>R004</td>\n",
       "      <td>level_1</td>\n",
       "      <td>available</td>\n",
       "      <td>standard</td>\n",
       "    </tr>\n",
       "    <tr>\n",
       "      <th>4</th>\n",
       "      <td>R005</td>\n",
       "      <td>level_2</td>\n",
       "      <td>available</td>\n",
       "      <td>standard</td>\n",
       "    </tr>\n",
       "    <tr>\n",
       "      <th>5</th>\n",
       "      <td>R006</td>\n",
       "      <td>level_2</td>\n",
       "      <td>occupied</td>\n",
       "      <td>standard</td>\n",
       "    </tr>\n",
       "    <tr>\n",
       "      <th>6</th>\n",
       "      <td>R007</td>\n",
       "      <td>level_2</td>\n",
       "      <td>available</td>\n",
       "      <td>standard</td>\n",
       "    </tr>\n",
       "    <tr>\n",
       "      <th>7</th>\n",
       "      <td>R008</td>\n",
       "      <td>level_2</td>\n",
       "      <td>occupied</td>\n",
       "      <td>standard</td>\n",
       "    </tr>\n",
       "    <tr>\n",
       "      <th>8</th>\n",
       "      <td>R009</td>\n",
       "      <td>level_2</td>\n",
       "      <td>occupied</td>\n",
       "      <td>standard</td>\n",
       "    </tr>\n",
       "    <tr>\n",
       "      <th>9</th>\n",
       "      <td>R010</td>\n",
       "      <td>level_2</td>\n",
       "      <td>occupied</td>\n",
       "      <td>standard</td>\n",
       "    </tr>\n",
       "    <tr>\n",
       "      <th>10</th>\n",
       "      <td>R011</td>\n",
       "      <td>level_2</td>\n",
       "      <td>available</td>\n",
       "      <td>standard</td>\n",
       "    </tr>\n",
       "    <tr>\n",
       "      <th>11</th>\n",
       "      <td>R012</td>\n",
       "      <td>level_2</td>\n",
       "      <td>occupied</td>\n",
       "      <td>deluxe</td>\n",
       "    </tr>\n",
       "    <tr>\n",
       "      <th>12</th>\n",
       "      <td>R013</td>\n",
       "      <td>level_3</td>\n",
       "      <td>available</td>\n",
       "      <td>deluxe</td>\n",
       "    </tr>\n",
       "    <tr>\n",
       "      <th>13</th>\n",
       "      <td>R014</td>\n",
       "      <td>level_3</td>\n",
       "      <td>occupied</td>\n",
       "      <td>standard</td>\n",
       "    </tr>\n",
       "    <tr>\n",
       "      <th>14</th>\n",
       "      <td>R015</td>\n",
       "      <td>level_3</td>\n",
       "      <td>available</td>\n",
       "      <td>standard</td>\n",
       "    </tr>\n",
       "    <tr>\n",
       "      <th>15</th>\n",
       "      <td>R016</td>\n",
       "      <td>level_3</td>\n",
       "      <td>available</td>\n",
       "      <td>deluxe</td>\n",
       "    </tr>\n",
       "    <tr>\n",
       "      <th>16</th>\n",
       "      <td>R017</td>\n",
       "      <td>level_3</td>\n",
       "      <td>occupied</td>\n",
       "      <td>deluxe</td>\n",
       "    </tr>\n",
       "    <tr>\n",
       "      <th>17</th>\n",
       "      <td>R018</td>\n",
       "      <td>level_3</td>\n",
       "      <td>available</td>\n",
       "      <td>standard</td>\n",
       "    </tr>\n",
       "    <tr>\n",
       "      <th>18</th>\n",
       "      <td>R019</td>\n",
       "      <td>level_3</td>\n",
       "      <td>occupied</td>\n",
       "      <td>deluxe</td>\n",
       "    </tr>\n",
       "    <tr>\n",
       "      <th>19</th>\n",
       "      <td>R020</td>\n",
       "      <td>level_3</td>\n",
       "      <td>occupied</td>\n",
       "      <td>deluxe</td>\n",
       "    </tr>\n",
       "  </tbody>\n",
       "</table>\n",
       "</div>"
      ]
     },
     "execution_count": 29,
     "metadata": {},
     "output_type": "execute_result"
    }
   ],
   "execution_count": 29
  },
  {
   "metadata": {},
   "cell_type": "markdown",
   "source": "### INSERT DATA",
   "id": "4fc264e044acb87e"
  },
  {
   "metadata": {
    "ExecuteTime": {
     "end_time": "2025-06-02T07:32:03.669765Z",
     "start_time": "2025-06-02T07:32:03.660364Z"
    }
   },
   "cell_type": "code",
   "source": [
    "# Insert data using DataFrame iteration\n",
    "for index, row in rooms_df.iterrows():\n",
    "    cursor.execute('''\n",
    "    INSERT INTO rooms (room_id, level, availability, room_type)\n",
    "    VALUES (?, ?, ?, ?)\n",
    "    ''', (row['room_id'], row['level'], row['availability'], row['type']))\n",
    "\n",
    "# Commit changes\n",
    "conn.commit()\n",
    "\n",
    "# Verify data insertion\n",
    "print(\"Total rooms inserted:\", cursor.execute(\"SELECT COUNT(*) FROM rooms\").fetchone()[0])\n",
    "print(\"\\nSample rooms:\")\n",
    "for row in cursor.execute(\"SELECT * FROM rooms LIMIT 5\"):\n",
    "    print(row)\n",
    "\n",
    "# Close connection\n",
    "conn.close()"
   ],
   "id": "96fc5c1dedf57823",
   "outputs": [
    {
     "name": "stdout",
     "output_type": "stream",
     "text": [
      "Total rooms inserted: 20\n",
      "\n",
      "Sample rooms:\n",
      "('R001', 'level_1', 'available', 'deluxe')\n",
      "('R002', 'level_1', 'occupied', 'standard')\n",
      "('R003', 'level_1', 'available', 'deluxe')\n",
      "('R004', 'level_1', 'available', 'standard')\n",
      "('R005', 'level_2', 'available', 'standard')\n"
     ]
    }
   ],
   "execution_count": 30
  },
  {
   "cell_type": "markdown",
   "source": [],
   "metadata": {
    "collapsed": false
   },
   "id": "bff2c45349cd2abe"
  },
  {
   "metadata": {},
   "cell_type": "code",
   "outputs": [],
   "execution_count": null,
   "source": "",
   "id": "d55eea1af2495a2"
  },
  {
   "metadata": {},
   "cell_type": "markdown",
   "source": "",
   "id": "8acf8caeec2b60c1"
  },
  {
   "metadata": {},
   "cell_type": "code",
   "outputs": [],
   "execution_count": null,
   "source": "",
   "id": "2c794aaa8a233b75"
  }
 ],
 "metadata": {
  "kernelspec": {
   "display_name": "Python 3",
   "language": "python",
   "name": "python3"
  },
  "language_info": {
   "codemirror_mode": {
    "name": "ipython",
    "version": 2
   },
   "file_extension": ".py",
   "mimetype": "text/x-python",
   "name": "python",
   "nbconvert_exporter": "python",
   "pygments_lexer": "ipython2",
   "version": "2.7.6"
  }
 },
 "nbformat": 4,
 "nbformat_minor": 5
}
